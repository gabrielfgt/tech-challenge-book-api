{
 "cells": [
  {
   "cell_type": "markdown",
   "id": "08d69d8e",
   "metadata": {},
   "source": [
    "# 📊 Análise Pré-Transformação dos Dados de Livros\n",
    "\n",
    "## 🎯 Objetivo\n",
    "Este notebook realiza uma **análise exploratória detalhada** dos dados brutos extraídos do dataset de livros, com foco em:\n",
    "\n",
    "- **Qualidade dos dados**: Verificação de valores nulos, duplicatas e inconsistências\n",
    "- **Distribuições estatísticas**: Análise de variáveis numéricas e categóricas  \n",
    "- **Padrões identificados**: Descoberta de insights para feature engineering\n",
    "- **Validação**: Detecção de outliers e valores anômalos\n",
    "- **Recomendações**: Orientações para o pipeline de transformação\n",
    "\n",
    "📋 **Dataset**: `all_books_with_images.csv` - Dados brutos de 1000 livros\n",
    "🔍 **Próximo passo**: Pipeline ETL baseado nos insights desta análise"
   ]
  },
  {
   "cell_type": "markdown",
   "id": "9c2dbba0",
   "metadata": {},
   "source": [
    "### Pré análise dos dados extraídos"
   ]
  },
  {
   "cell_type": "code",
   "execution_count": 1,
   "id": "4e7f5466",
   "metadata": {},
   "outputs": [],
   "source": [
    "import polars as pl"
   ]
  },
  {
   "cell_type": "code",
   "execution_count": 2,
   "id": "a4abf385",
   "metadata": {},
   "outputs": [
    {
     "data": {
      "text/html": [
       "<div><style>\n",
       ".dataframe > thead > tr,\n",
       ".dataframe > tbody > tr {\n",
       "  text-align: right;\n",
       "  white-space: pre-wrap;\n",
       "}\n",
       "</style>\n",
       "<small>shape: (5, 9)</small><table border=\"1\" class=\"dataframe\"><thead><tr><th>title</th><th>price</th><th>rating</th><th>category</th><th>image</th><th>product_page</th><th>availability</th><th>stock</th><th>image_base64</th></tr><tr><td>str</td><td>f64</td><td>i64</td><td>str</td><td>str</td><td>str</td><td>str</td><td>i64</td><td>str</td></tr></thead><tbody><tr><td>&quot;It&#x27;s Only the Himalayas&quot;</td><td>45.17</td><td>2</td><td>&quot;Travel&quot;</td><td>&quot;https://books.toscrape.com/med…</td><td>&quot;https://books.toscrape.com/cat…</td><td>&quot;yes&quot;</td><td>19</td><td>&quot;/9j/4AAQSkZJRgABAQAAAQABAAD/2w…</td></tr><tr><td>&quot;Full Moon over Noah’s Ark: An …</td><td>49.43</td><td>4</td><td>&quot;Travel&quot;</td><td>&quot;https://books.toscrape.com/med…</td><td>&quot;https://books.toscrape.com/cat…</td><td>&quot;yes&quot;</td><td>15</td><td>&quot;/9j/4AAQSkZJRgABAQAAAQABAAD/2w…</td></tr><tr><td>&quot;See America: A Celebration of …</td><td>48.87</td><td>3</td><td>&quot;Travel&quot;</td><td>&quot;https://books.toscrape.com/med…</td><td>&quot;https://books.toscrape.com/cat…</td><td>&quot;yes&quot;</td><td>14</td><td>&quot;/9j/4AAQSkZJRgABAQAAAQABAAD/2w…</td></tr><tr><td>&quot;Vagabonding: An Uncommon Guide…</td><td>36.94</td><td>2</td><td>&quot;Travel&quot;</td><td>&quot;https://books.toscrape.com/med…</td><td>&quot;https://books.toscrape.com/cat…</td><td>&quot;yes&quot;</td><td>8</td><td>&quot;/9j/4AAQSkZJRgABAQAAAQABAAD/2w…</td></tr><tr><td>&quot;Under the Tuscan Sun&quot;</td><td>37.33</td><td>3</td><td>&quot;Travel&quot;</td><td>&quot;https://books.toscrape.com/med…</td><td>&quot;https://books.toscrape.com/cat…</td><td>&quot;yes&quot;</td><td>7</td><td>&quot;/9j/4AAQSkZJRgABAQAAAQABAAD/2w…</td></tr></tbody></table></div>"
      ],
      "text/plain": [
       "shape: (5, 9)\n",
       "┌──────────────┬───────┬────────┬──────────┬───┬──────────────┬──────────────┬───────┬─────────────┐\n",
       "│ title        ┆ price ┆ rating ┆ category ┆ … ┆ product_page ┆ availability ┆ stock ┆ image_base6 │\n",
       "│ ---          ┆ ---   ┆ ---    ┆ ---      ┆   ┆ ---          ┆ ---          ┆ ---   ┆ 4           │\n",
       "│ str          ┆ f64   ┆ i64    ┆ str      ┆   ┆ str          ┆ str          ┆ i64   ┆ ---         │\n",
       "│              ┆       ┆        ┆          ┆   ┆              ┆              ┆       ┆ str         │\n",
       "╞══════════════╪═══════╪════════╪══════════╪═══╪══════════════╪══════════════╪═══════╪═════════════╡\n",
       "│ It's Only    ┆ 45.17 ┆ 2      ┆ Travel   ┆ … ┆ https://book ┆ yes          ┆ 19    ┆ /9j/4AAQSkZ │\n",
       "│ the          ┆       ┆        ┆          ┆   ┆ s.toscrape.c ┆              ┆       ┆ JRgABAQAAAQ │\n",
       "│ Himalayas    ┆       ┆        ┆          ┆   ┆ om/cat…      ┆              ┆       ┆ ABAAD/2w…   │\n",
       "│ Full Moon    ┆ 49.43 ┆ 4      ┆ Travel   ┆ … ┆ https://book ┆ yes          ┆ 15    ┆ /9j/4AAQSkZ │\n",
       "│ over Noah’s  ┆       ┆        ┆          ┆   ┆ s.toscrape.c ┆              ┆       ┆ JRgABAQAAAQ │\n",
       "│ Ark: An …    ┆       ┆        ┆          ┆   ┆ om/cat…      ┆              ┆       ┆ ABAAD/2w…   │\n",
       "│ See America: ┆ 48.87 ┆ 3      ┆ Travel   ┆ … ┆ https://book ┆ yes          ┆ 14    ┆ /9j/4AAQSkZ │\n",
       "│ A            ┆       ┆        ┆          ┆   ┆ s.toscrape.c ┆              ┆       ┆ JRgABAQAAAQ │\n",
       "│ Celebration  ┆       ┆        ┆          ┆   ┆ om/cat…      ┆              ┆       ┆ ABAAD/2w…   │\n",
       "│ of …         ┆       ┆        ┆          ┆   ┆              ┆              ┆       ┆             │\n",
       "│ Vagabonding: ┆ 36.94 ┆ 2      ┆ Travel   ┆ … ┆ https://book ┆ yes          ┆ 8     ┆ /9j/4AAQSkZ │\n",
       "│ An Uncommon  ┆       ┆        ┆          ┆   ┆ s.toscrape.c ┆              ┆       ┆ JRgABAQAAAQ │\n",
       "│ Guide…       ┆       ┆        ┆          ┆   ┆ om/cat…      ┆              ┆       ┆ ABAAD/2w…   │\n",
       "│ Under the    ┆ 37.33 ┆ 3      ┆ Travel   ┆ … ┆ https://book ┆ yes          ┆ 7     ┆ /9j/4AAQSkZ │\n",
       "│ Tuscan Sun   ┆       ┆        ┆          ┆   ┆ s.toscrape.c ┆              ┆       ┆ JRgABAQAAAQ │\n",
       "│              ┆       ┆        ┆          ┆   ┆ om/cat…      ┆              ┆       ┆ ABAAD/2w…   │\n",
       "└──────────────┴───────┴────────┴──────────┴───┴──────────────┴──────────────┴───────┴─────────────┘"
      ]
     },
     "execution_count": 2,
     "metadata": {},
     "output_type": "execute_result"
    }
   ],
   "source": [
    "df = pl.read_csv(\"../data/raw/all_books_with_images.csv\")\n",
    "df.head(5)"
   ]
  },
  {
   "cell_type": "markdown",
   "id": "23d40f1e",
   "metadata": {},
   "source": [
    "#### Análise inicial do DataFrame"
   ]
  },
  {
   "cell_type": "code",
   "execution_count": 3,
   "id": "c4481274",
   "metadata": {},
   "outputs": [
    {
     "name": "stdout",
     "output_type": "stream",
     "text": [
      "=== Quantidade de registros ===\n",
      "Total de registros: 1000\n"
     ]
    }
   ],
   "source": [
    "print(\"=== Quantidade de registros ===\")\n",
    "print(f\"Total de registros: {df.height}\")"
   ]
  },
  {
   "cell_type": "code",
   "execution_count": 9,
   "id": "3bf9858b",
   "metadata": {},
   "outputs": [
    {
     "name": "stdout",
     "output_type": "stream",
     "text": [
      "\n",
      "=== Tipos de dados por coluna ===\n",
      "title: String\n",
      "price: Float64\n",
      "rating: Int64\n",
      "category: String\n",
      "image: String\n",
      "product_page: String\n",
      "availability: String\n",
      "stock: Int64\n",
      "image_base64: String\n",
      "\n",
      "=== Tipos únicos de dados presente no dataset ===\n",
      "{Int64, String, Float64}\n"
     ]
    }
   ],
   "source": [
    "print(\"\\n=== Tipos de dados por coluna ===\")\n",
    "for col in df.columns:\n",
    "    print(f\"{col}: {df[col].dtype}\")\n",
    "print(\"\\n=== Tipos únicos de dados presente no dataset ===\")\n",
    "print(set(df.dtypes))"
   ]
  },
  {
   "cell_type": "code",
   "execution_count": 38,
   "id": "30d26911",
   "metadata": {},
   "outputs": [
    {
     "name": "stdout",
     "output_type": "stream",
     "text": [
      "\n",
      "=== Contagem de valores nulos por coluna ===\n",
      "\n",
      "INSIGHT: Nenhuma coluna possui valores nulos.\n"
     ]
    },
    {
     "data": {
      "text/html": [
       "<div><style>\n",
       ".dataframe > thead > tr,\n",
       ".dataframe > tbody > tr {\n",
       "  text-align: right;\n",
       "  white-space: pre-wrap;\n",
       "}\n",
       "</style>\n",
       "<small>shape: (1, 9)</small><table border=\"1\" class=\"dataframe\"><thead><tr><th>title</th><th>price</th><th>rating</th><th>category</th><th>image</th><th>product_page</th><th>availability</th><th>stock</th><th>image_base64</th></tr><tr><td>u32</td><td>u32</td><td>u32</td><td>u32</td><td>u32</td><td>u32</td><td>u32</td><td>u32</td><td>u32</td></tr></thead><tbody><tr><td>0</td><td>0</td><td>0</td><td>0</td><td>0</td><td>0</td><td>0</td><td>0</td><td>0</td></tr></tbody></table></div>"
      ],
      "text/plain": [
       "shape: (1, 9)\n",
       "┌───────┬───────┬────────┬──────────┬───┬──────────────┬──────────────┬───────┬──────────────┐\n",
       "│ title ┆ price ┆ rating ┆ category ┆ … ┆ product_page ┆ availability ┆ stock ┆ image_base64 │\n",
       "│ ---   ┆ ---   ┆ ---    ┆ ---      ┆   ┆ ---          ┆ ---          ┆ ---   ┆ ---          │\n",
       "│ u32   ┆ u32   ┆ u32    ┆ u32      ┆   ┆ u32          ┆ u32          ┆ u32   ┆ u32          │\n",
       "╞═══════╪═══════╪════════╪══════════╪═══╪══════════════╪══════════════╪═══════╪══════════════╡\n",
       "│ 0     ┆ 0     ┆ 0      ┆ 0        ┆ … ┆ 0            ┆ 0            ┆ 0     ┆ 0            │\n",
       "└───────┴───────┴────────┴──────────┴───┴──────────────┴──────────────┴───────┴──────────────┘"
      ]
     },
     "execution_count": 38,
     "metadata": {},
     "output_type": "execute_result"
    }
   ],
   "source": [
    "print(\"\\n=== Contagem de valores nulos por coluna ===\")\n",
    "print(\"\\nINSIGHT: Nenhuma coluna possui valores nulos.\")\n",
    "df.null_count()"
   ]
  },
  {
   "cell_type": "code",
   "execution_count": 36,
   "id": "de0ac3c3",
   "metadata": {},
   "outputs": [
    {
     "name": "stdout",
     "output_type": "stream",
     "text": [
      "\n",
      "=== ANÁLISE DE VALORES ZERO NAS COLUNAS NUMÉRICAS ===\n",
      "price: 0 valores zero (0.0% do total)\n",
      "stock: 0 valores zero (0.0% do total)\n",
      "rating: 0 valores zero (0.0% do total)\n",
      "\n",
      "INSIGHT: Nenhuma das colunas numéricas possui valores zero, indicando que os dados estão completos nesse aspecto.\n"
     ]
    }
   ],
   "source": [
    "print(\"\\n=== ANÁLISE DE VALORES ZERO NAS COLUNAS NUMÉRICAS ===\")\n",
    "for col in ['price', 'stock', 'rating']:\n",
    "    zero_count = df.filter(pl.col(col) == 0).height\n",
    "    total_count = df.height\n",
    "    percentage = (zero_count / total_count) * 100\n",
    "    print(f\"{col}: {zero_count} valores zero ({percentage:.1f}% do total)\")\n",
    "    \n",
    "    if zero_count > 0:\n",
    "        print(f\"  Exemplos de registros com {col} = 0:\")\n",
    "        examples = df.filter(pl.col(col) == 0).select(['title', col]).head(3)\n",
    "        for row in examples.iter_rows():\n",
    "            print(f\"    - {row[0][:50]}...\" if len(row[0]) > 50 else f\"    - {row[0]}\")\n",
    "\n",
    "print(\"\\nINSIGHT: Nenhuma das colunas numéricas possui valores zero, indicando que os dados estão completos nesse aspecto.\")"
   ]
  },
  {
   "cell_type": "code",
   "execution_count": 30,
   "id": "1b022261",
   "metadata": {},
   "outputs": [
    {
     "name": "stdout",
     "output_type": "stream",
     "text": [
      "\n",
      "=== ANÁLISE DE VALORES NULOS E PROBLEMÁTICOS NAS COLUNAS CATEGÓRICAS ===\n",
      "\n",
      "--- Análise da coluna 'title' ---\n",
      "Valores nulos: 0\n",
      "Strings vazias: 0\n",
      "Valores '0' (string): 0\n",
      "Valores 'null' (string): 0\n",
      "Valores 'N/A' ou 'NA': 0\n",
      "Total problemático: 0 (0.0%)\n",
      "\n",
      "--- Análise da coluna 'category' ---\n",
      "Valores nulos: 0\n",
      "Strings vazias: 0\n",
      "Valores '0' (string): 0\n",
      "Valores 'null' (string): 0\n",
      "Valores 'N/A' ou 'NA': 0\n",
      "Total problemático: 0 (0.0%)\n",
      "\n",
      "--- Análise da coluna 'image' ---\n",
      "Valores nulos: 0\n",
      "Strings vazias: 0\n",
      "Valores '0' (string): 0\n",
      "Valores 'null' (string): 0\n",
      "Valores 'N/A' ou 'NA': 0\n",
      "Total problemático: 0 (0.0%)\n",
      "\n",
      "--- Análise da coluna 'product_page' ---\n",
      "Valores nulos: 0\n",
      "Strings vazias: 0\n",
      "Valores '0' (string): 0\n",
      "Valores 'null' (string): 0\n",
      "Valores 'N/A' ou 'NA': 0\n",
      "Total problemático: 0 (0.0%)\n",
      "\n",
      "--- Análise da coluna 'availability' ---\n",
      "Valores nulos: 0\n",
      "Strings vazias: 0\n",
      "Valores '0' (string): 0\n",
      "Valores 'null' (string): 0\n",
      "Valores 'N/A' ou 'NA': 0\n",
      "Total problemático: 0 (0.0%)\n",
      "\n",
      "--- Análise da coluna 'image_base64' ---\n",
      "Valores nulos: 0\n",
      "Strings vazias: 0\n",
      "Valores '0' (string): 0\n",
      "Valores 'null' (string): 0\n",
      "Valores 'N/A' ou 'NA': 0\n",
      "Total problemático: 0 (0.0%)\n"
     ]
    }
   ],
   "source": [
    "print(\"\\n=== ANÁLISE DE VALORES NULOS E PROBLEMÁTICOS NAS COLUNAS CATEGÓRICAS ===\")\n",
    "\n",
    "# Colunas categóricas para análise\n",
    "categorical_columns = ['title', 'category', 'image', 'product_page', 'availability', 'image_base64']\n",
    "\n",
    "for col in categorical_columns:\n",
    "    print(f\"\\n--- Análise da coluna '{col}' ---\")\n",
    "    \n",
    "    # Valores nulos\n",
    "    null_count = df.filter(pl.col(col).is_null()).height\n",
    "    print(f\"Valores nulos: {null_count}\")\n",
    "    \n",
    "    # Strings vazias\n",
    "    empty_count = df.filter(pl.col(col) == \"\").height\n",
    "    print(f\"Strings vazias: {empty_count}\")\n",
    "    \n",
    "    # Valores '0' como string\n",
    "    zero_string_count = df.filter(pl.col(col) == \"0\").height\n",
    "    print(f\"Valores '0' (string): {zero_string_count}\")\n",
    "    \n",
    "    # Valores 'null' como string\n",
    "    null_string_count = df.filter(pl.col(col).str.to_lowercase() == \"null\").height\n",
    "    print(f\"Valores 'null' (string): {null_string_count}\")\n",
    "    \n",
    "    # Valores 'n/a' ou 'na'\n",
    "    na_count = df.filter(\n",
    "        (pl.col(col).str.to_lowercase() == \"n/a\") | \n",
    "        (pl.col(col).str.to_lowercase() == \"na\")\n",
    "    ).height\n",
    "    print(f\"Valores 'N/A' ou 'NA': {na_count}\")\n",
    "    \n",
    "    # Total de valores problemáticos\n",
    "    total_problematic = null_count + empty_count + zero_string_count + null_string_count + na_count\n",
    "    percentage = (total_problematic / df.height) * 100\n",
    "    print(f\"Total problemático: {total_problematic} ({percentage:.1f}%)\")\n",
    "    \n",
    "    # Mostrar exemplos se houver valores problemáticos\n",
    "    if total_problematic > 0:\n",
    "        print(\"Exemplos de registros problemáticos:\")\n",
    "        problematic_mask = (\n",
    "            pl.col(col).is_null() |\n",
    "            (pl.col(col) == \"\") |\n",
    "            (pl.col(col) == \"0\") |\n",
    "            (pl.col(col).str.to_lowercase() == \"null\") |\n",
    "            (pl.col(col).str.to_lowercase() == \"n/a\") |\n",
    "            (pl.col(col).str.to_lowercase() == \"na\")\n",
    "        )\n",
    "        examples = df.filter(problematic_mask).select(['title', col]).head(3)\n",
    "        for row in examples.iter_rows():\n",
    "            title_display = row[0][:30] + \"...\" if len(row[0]) > 30 else row[0]\n",
    "            print(f\"  - '{title_display}' → {col}: '{row[1]}'\")"
   ]
  },
  {
   "cell_type": "code",
   "execution_count": 11,
   "id": "607d7786",
   "metadata": {},
   "outputs": [
    {
     "name": "stdout",
     "output_type": "stream",
     "text": [
      "\n",
      "=== Estatísticas descritivas das colunas numéricas ===\n"
     ]
    },
    {
     "data": {
      "text/html": [
       "<div><style>\n",
       ".dataframe > thead > tr,\n",
       ".dataframe > tbody > tr {\n",
       "  text-align: right;\n",
       "  white-space: pre-wrap;\n",
       "}\n",
       "</style>\n",
       "<small>shape: (9, 10)</small><table border=\"1\" class=\"dataframe\"><thead><tr><th>statistic</th><th>title</th><th>price</th><th>rating</th><th>category</th><th>image</th><th>product_page</th><th>availability</th><th>stock</th><th>image_base64</th></tr><tr><td>str</td><td>str</td><td>f64</td><td>f64</td><td>str</td><td>str</td><td>str</td><td>str</td><td>f64</td><td>str</td></tr></thead><tbody><tr><td>&quot;count&quot;</td><td>&quot;1000&quot;</td><td>1000.0</td><td>1000.0</td><td>&quot;1000&quot;</td><td>&quot;1000&quot;</td><td>&quot;1000&quot;</td><td>&quot;1000&quot;</td><td>1000.0</td><td>&quot;1000&quot;</td></tr><tr><td>&quot;null_count&quot;</td><td>&quot;0&quot;</td><td>0.0</td><td>0.0</td><td>&quot;0&quot;</td><td>&quot;0&quot;</td><td>&quot;0&quot;</td><td>&quot;0&quot;</td><td>0.0</td><td>&quot;0&quot;</td></tr><tr><td>&quot;mean&quot;</td><td>null</td><td>35.07035</td><td>2.923</td><td>null</td><td>null</td><td>null</td><td>null</td><td>8.585</td><td>null</td></tr><tr><td>&quot;std&quot;</td><td>null</td><td>14.44669</td><td>1.434967</td><td>null</td><td>null</td><td>null</td><td>null</td><td>5.654622</td><td>null</td></tr><tr><td>&quot;min&quot;</td><td>&quot;&quot;Most Blessed of the Patriarch…</td><td>10.0</td><td>1.0</td><td>&quot;Academic&quot;</td><td>&quot;https://books.toscrape.com/med…</td><td>&quot;https://books.toscrape.com/cat…</td><td>&quot;yes&quot;</td><td>1.0</td><td>&quot;/9j/4AAQSkZJRgABAQAAAQABAAD/2w…</td></tr><tr><td>&quot;25%&quot;</td><td>null</td><td>22.11</td><td>2.0</td><td>null</td><td>null</td><td>null</td><td>null</td><td>3.0</td><td>null</td></tr><tr><td>&quot;50%&quot;</td><td>null</td><td>36.0</td><td>3.0</td><td>null</td><td>null</td><td>null</td><td>null</td><td>7.0</td><td>null</td></tr><tr><td>&quot;75%&quot;</td><td>null</td><td>47.44</td><td>4.0</td><td>null</td><td>null</td><td>null</td><td>null</td><td>14.0</td><td>null</td></tr><tr><td>&quot;max&quot;</td><td>&quot;salt.&quot;</td><td>59.99</td><td>5.0</td><td>&quot;Young Adult&quot;</td><td>&quot;https://books.toscrape.com/med…</td><td>&quot;https://books.toscrape.com/cat…</td><td>&quot;yes&quot;</td><td>22.0</td><td>&quot;/9j/4AAQSkZJRgABAQAAAQABAAD/2w…</td></tr></tbody></table></div>"
      ],
      "text/plain": [
       "shape: (9, 10)\n",
       "┌────────────┬────────────┬──────────┬──────────┬───┬───────────┬───────────┬──────────┬───────────┐\n",
       "│ statistic  ┆ title      ┆ price    ┆ rating   ┆ … ┆ product_p ┆ availabil ┆ stock    ┆ image_bas │\n",
       "│ ---        ┆ ---        ┆ ---      ┆ ---      ┆   ┆ age       ┆ ity       ┆ ---      ┆ e64       │\n",
       "│ str        ┆ str        ┆ f64      ┆ f64      ┆   ┆ ---       ┆ ---       ┆ f64      ┆ ---       │\n",
       "│            ┆            ┆          ┆          ┆   ┆ str       ┆ str       ┆          ┆ str       │\n",
       "╞════════════╪════════════╪══════════╪══════════╪═══╪═══════════╪═══════════╪══════════╪═══════════╡\n",
       "│ count      ┆ 1000       ┆ 1000.0   ┆ 1000.0   ┆ … ┆ 1000      ┆ 1000      ┆ 1000.0   ┆ 1000      │\n",
       "│ null_count ┆ 0          ┆ 0.0      ┆ 0.0      ┆ … ┆ 0         ┆ 0         ┆ 0.0      ┆ 0         │\n",
       "│ mean       ┆ null       ┆ 35.07035 ┆ 2.923    ┆ … ┆ null      ┆ null      ┆ 8.585    ┆ null      │\n",
       "│ std        ┆ null       ┆ 14.44669 ┆ 1.434967 ┆ … ┆ null      ┆ null      ┆ 5.654622 ┆ null      │\n",
       "│ min        ┆ \"Most      ┆ 10.0     ┆ 1.0      ┆ … ┆ https://b ┆ yes       ┆ 1.0      ┆ /9j/4AAQS │\n",
       "│            ┆ Blessed of ┆          ┆          ┆   ┆ ooks.tosc ┆           ┆          ┆ kZJRgABAQ │\n",
       "│            ┆ the        ┆          ┆          ┆   ┆ rape.com/ ┆           ┆          ┆ AAAQABAAD │\n",
       "│            ┆ Patriarch… ┆          ┆          ┆   ┆ cat…      ┆           ┆          ┆ /2w…      │\n",
       "│ 25%        ┆ null       ┆ 22.11    ┆ 2.0      ┆ … ┆ null      ┆ null      ┆ 3.0      ┆ null      │\n",
       "│ 50%        ┆ null       ┆ 36.0     ┆ 3.0      ┆ … ┆ null      ┆ null      ┆ 7.0      ┆ null      │\n",
       "│ 75%        ┆ null       ┆ 47.44    ┆ 4.0      ┆ … ┆ null      ┆ null      ┆ 14.0     ┆ null      │\n",
       "│ max        ┆ salt.      ┆ 59.99    ┆ 5.0      ┆ … ┆ https://b ┆ yes       ┆ 22.0     ┆ /9j/4AAQS │\n",
       "│            ┆            ┆          ┆          ┆   ┆ ooks.tosc ┆           ┆          ┆ kZJRgABAQ │\n",
       "│            ┆            ┆          ┆          ┆   ┆ rape.com/ ┆           ┆          ┆ AAAQABAAD │\n",
       "│            ┆            ┆          ┆          ┆   ┆ cat…      ┆           ┆          ┆ /2w…      │\n",
       "└────────────┴────────────┴──────────┴──────────┴───┴───────────┴───────────┴──────────┴───────────┘"
      ]
     },
     "execution_count": 11,
     "metadata": {},
     "output_type": "execute_result"
    }
   ],
   "source": [
    "print(\"\\n=== Estatísticas descritivas das colunas numéricas ===\")\n",
    "df.describe()"
   ]
  },
  {
   "cell_type": "markdown",
   "id": "a72ffed5",
   "metadata": {},
   "source": [
    "#### Análise mais detalhada dos campos numéricos"
   ]
  },
  {
   "cell_type": "code",
   "execution_count": 34,
   "id": "93cd0bf5",
   "metadata": {},
   "outputs": [
    {
     "name": "stdout",
     "output_type": "stream",
     "text": [
      "=== ESTATÍSTICAS DE PREÇO ===\n",
      "Preço mínimo: $10.00\n",
      "Preço máximo: $59.99\n",
      "Preço médio: $35.07\n",
      "Preço mediano: $35.98\n",
      "\n",
      "INSIGHT: Como a média está próxima da mediana, não há uma assimetria significativa nos preços (outliers).\n"
     ]
    }
   ],
   "source": [
    "print(\"=== ESTATÍSTICAS DE PREÇO ===\")\n",
    "print(f\"Preço mínimo: ${df['price'].min():.2f}\")\n",
    "print(f\"Preço máximo: ${df['price'].max():.2f}\")\n",
    "print(f\"Preço médio: ${df['price'].mean():.2f}\")\n",
    "print(f\"Preço mediano: ${df['price'].median():.2f}\")\n",
    "\n",
    "print(\"\\nINSIGHT: Como a média está próxima da mediana, não há uma assimetria significativa nos preços (outliers).\")"
   ]
  },
  {
   "cell_type": "code",
   "execution_count": 35,
   "id": "e28b101c",
   "metadata": {},
   "outputs": [
    {
     "name": "stdout",
     "output_type": "stream",
     "text": [
      "\n",
      "=== DISTRIBUIÇÃO DE RATINGS ===\n",
      "shape: (5, 2)\n",
      "┌────────┬───────┐\n",
      "│ rating ┆ count │\n",
      "│ ---    ┆ ---   │\n",
      "│ i64    ┆ u32   │\n",
      "╞════════╪═══════╡\n",
      "│ 1      ┆ 226   │\n",
      "│ 2      ┆ 196   │\n",
      "│ 3      ┆ 203   │\n",
      "│ 4      ┆ 179   │\n",
      "│ 5      ┆ 196   │\n",
      "└────────┴───────┘\n",
      "\n",
      "INSIGHT: As categorias estão bem distribuídas, com uma leve concentração em ratings mais altos (1 e 3).\n"
     ]
    }
   ],
   "source": [
    "print(\"\\n=== DISTRIBUIÇÃO DE RATINGS ===\")\n",
    "rating_dist = df['rating'].value_counts().sort(\"rating\")\n",
    "print(rating_dist)\n",
    "\n",
    "print(\"\\nINSIGHT: As categorias estão bem distribuídas, com uma leve concentração em ratings mais altos (1 e 3).\")"
   ]
  },
  {
   "cell_type": "code",
   "execution_count": 54,
   "id": "81596f35",
   "metadata": {},
   "outputs": [
    {
     "name": "stdout",
     "output_type": "stream",
     "text": [
      "\n",
      "=== ESTATÍSTICAS DE CATEGORIAS ===\n",
      "Total de categorias únicas: 50\n"
     ]
    }
   ],
   "source": [
    "print(\"\\n=== ESTATÍSTICAS DE CATEGORIAS ===\")\n",
    "print(f\"Total de categorias únicas: {df['category'].n_unique()}\")"
   ]
  },
  {
   "cell_type": "code",
   "execution_count": 45,
   "id": "dbd3ad85",
   "metadata": {},
   "outputs": [
    {
     "name": "stdout",
     "output_type": "stream",
     "text": [
      "\n",
      "=== DISTRIBUIÇÃO DE CATEGORIAS (TOP 10) ===\n",
      "shape: (10, 2)\n",
      "┌────────────────┬───────┐\n",
      "│ category       ┆ count │\n",
      "│ ---            ┆ ---   │\n",
      "│ str            ┆ u32   │\n",
      "╞════════════════╪═══════╡\n",
      "│ Default        ┆ 152   │\n",
      "│ Nonfiction     ┆ 110   │\n",
      "│ Sequential Art ┆ 75    │\n",
      "│ Add a comment  ┆ 67    │\n",
      "│ Fiction        ┆ 65    │\n",
      "│ Young Adult    ┆ 54    │\n",
      "│ Fantasy        ┆ 48    │\n",
      "│ Romance        ┆ 35    │\n",
      "│ Mystery        ┆ 32    │\n",
      "│ Food and Drink ┆ 30    │\n",
      "└────────────────┴───────┘\n"
     ]
    }
   ],
   "source": [
    "print(\"\\n=== DISTRIBUIÇÃO DE CATEGORIAS (TOP 10) ===\")\n",
    "category_dist = df['category'].value_counts().sort(\"count\", descending=True)\n",
    "print(category_dist.head(10))"
   ]
  },
  {
   "cell_type": "code",
   "execution_count": 50,
   "id": "223a4a14",
   "metadata": {},
   "outputs": [
    {
     "name": "stdout",
     "output_type": "stream",
     "text": [
      "shape: (10, 2)\n",
      "┌────────────────────┬───────┐\n",
      "│ category           ┆ count │\n",
      "│ ---                ┆ ---   │\n",
      "│ str                ┆ u32   │\n",
      "╞════════════════════╪═══════╡\n",
      "│ Childrens          ┆ 29    │\n",
      "│ Historical Fiction ┆ 26    │\n",
      "│ Classics           ┆ 19    │\n",
      "│ Poetry             ┆ 19    │\n",
      "│ History            ┆ 18    │\n",
      "│ Horror             ┆ 17    │\n",
      "│ Womens Fiction     ┆ 17    │\n",
      "│ Science Fiction    ┆ 16    │\n",
      "│ Science            ┆ 14    │\n",
      "│ Music              ┆ 13    │\n",
      "└────────────────────┴───────┘\n"
     ]
    }
   ],
   "source": [
    "print(category_dist[10:20])"
   ]
  },
  {
   "cell_type": "code",
   "execution_count": 51,
   "id": "130092a5",
   "metadata": {},
   "outputs": [
    {
     "name": "stdout",
     "output_type": "stream",
     "text": [
      "shape: (10, 2)\n",
      "┌───────────────┬───────┐\n",
      "│ category      ┆ count │\n",
      "│ ---           ┆ ---   │\n",
      "│ str           ┆ u32   │\n",
      "╞═══════════════╪═══════╡\n",
      "│ Business      ┆ 12    │\n",
      "│ Travel        ┆ 11    │\n",
      "│ Thriller      ┆ 11    │\n",
      "│ Philosophy    ┆ 11    │\n",
      "│ Humor         ┆ 10    │\n",
      "│ Autobiography ┆ 9     │\n",
      "│ Art           ┆ 8     │\n",
      "│ Religion      ┆ 7     │\n",
      "│ Psychology    ┆ 7     │\n",
      "│ Spirituality  ┆ 6     │\n",
      "└───────────────┴───────┘\n"
     ]
    }
   ],
   "source": [
    "print(category_dist[20:30])"
   ]
  },
  {
   "cell_type": "code",
   "execution_count": 52,
   "id": "d05f9d56",
   "metadata": {},
   "outputs": [
    {
     "name": "stdout",
     "output_type": "stream",
     "text": [
      "shape: (10, 2)\n",
      "┌───────────────────┬───────┐\n",
      "│ category          ┆ count │\n",
      "│ ---               ┆ ---   │\n",
      "│ str               ┆ u32   │\n",
      "╞═══════════════════╪═══════╡\n",
      "│ New Adult         ┆ 6     │\n",
      "│ Christian Fiction ┆ 6     │\n",
      "│ Self Help         ┆ 5     │\n",
      "│ Sports and Games  ┆ 5     │\n",
      "│ Biography         ┆ 5     │\n",
      "│ Health            ┆ 4     │\n",
      "│ Christian         ┆ 3     │\n",
      "│ Politics          ┆ 3     │\n",
      "│ Contemporary      ┆ 3     │\n",
      "│ Historical        ┆ 2     │\n",
      "└───────────────────┴───────┘\n"
     ]
    }
   ],
   "source": [
    "print(category_dist[30:40])"
   ]
  },
  {
   "cell_type": "code",
   "execution_count": 55,
   "id": "f034a786",
   "metadata": {},
   "outputs": [
    {
     "name": "stdout",
     "output_type": "stream",
     "text": [
      "\n",
      "=== BOTTOM 10 CATEGORIAS ===\n",
      "shape: (10, 2)\n",
      "┌───────────────┬───────┐\n",
      "│ category      ┆ count │\n",
      "│ ---           ┆ ---   │\n",
      "│ str           ┆ u32   │\n",
      "╞═══════════════╪═══════╡\n",
      "│ Crime         ┆ 1     │\n",
      "│ Parenting     ┆ 1     │\n",
      "│ Erotica       ┆ 1     │\n",
      "│ Novels        ┆ 1     │\n",
      "│ Paranormal    ┆ 1     │\n",
      "│ Suspense      ┆ 1     │\n",
      "│ Cultural      ┆ 1     │\n",
      "│ Adult Fiction ┆ 1     │\n",
      "│ Academic      ┆ 1     │\n",
      "│ Short Stories ┆ 1     │\n",
      "└───────────────┴───────┘\n"
     ]
    }
   ],
   "source": [
    "print(\"\\n=== BOTTOM 10 CATEGORIAS ===\")\n",
    "print(category_dist.tail(10))"
   ]
  },
  {
   "cell_type": "code",
   "execution_count": 58,
   "id": "36651fe2",
   "metadata": {},
   "outputs": [
    {
     "name": "stdout",
     "output_type": "stream",
     "text": [
      "\n",
      "=== DISPONIBILIDADE ===\n",
      "shape: (1, 2)\n",
      "┌──────────────┬───────┐\n",
      "│ availability ┆ count │\n",
      "│ ---          ┆ ---   │\n",
      "│ str          ┆ u32   │\n",
      "╞══════════════╪═══════╡\n",
      "│ yes          ┆ 1000  │\n",
      "└──────────────┴───────┘\n",
      "\n",
      "INSIGHT: 100% dos livros estão disponíveis, quando for pensar em modelagem de dados, talvez não faça sentido manter essa coluna.\n"
     ]
    }
   ],
   "source": [
    "print(\"\\n=== DISPONIBILIDADE ===\")\n",
    "availability_dist = df['availability'].value_counts()\n",
    "print(availability_dist)\n",
    "print(\"\\nINSIGHT: 100% dos livros estão disponíveis, quando for pensar em modelagem de dados, talvez não faça sentido manter essa coluna.\")"
   ]
  },
  {
   "cell_type": "markdown",
   "id": "33f08272",
   "metadata": {},
   "source": [
    "#### Análise de qualidade dos dados"
   ]
  },
  {
   "cell_type": "code",
   "execution_count": 59,
   "id": "dfdb2c5a",
   "metadata": {},
   "outputs": [
    {
     "name": "stdout",
     "output_type": "stream",
     "text": [
      "\n",
      "=== TÍTULOS DUPLICADOS ===\n",
      "Títulos duplicados: 2\n"
     ]
    }
   ],
   "source": [
    "print(\"\\n=== TÍTULOS DUPLICADOS ===\")\n",
    "duplicate_titles = df.filter(df['title'].is_duplicated())\n",
    "print(f\"Títulos duplicados: {duplicate_titles.height}\")"
   ]
  },
  {
   "cell_type": "code",
   "execution_count": 60,
   "id": "d30e97b2",
   "metadata": {},
   "outputs": [
    {
     "data": {
      "text/html": [
       "<div><style>\n",
       ".dataframe > thead > tr,\n",
       ".dataframe > tbody > tr {\n",
       "  text-align: right;\n",
       "  white-space: pre-wrap;\n",
       "}\n",
       "</style>\n",
       "<small>shape: (2, 9)</small><table border=\"1\" class=\"dataframe\"><thead><tr><th>title</th><th>price</th><th>rating</th><th>category</th><th>image</th><th>product_page</th><th>availability</th><th>stock</th><th>image_base64</th></tr><tr><td>str</td><td>f64</td><td>i64</td><td>str</td><td>str</td><td>str</td><td>str</td><td>i64</td><td>str</td></tr></thead><tbody><tr><td>&quot;The Star-Touched Queen&quot;</td><td>46.02</td><td>5</td><td>&quot;Fantasy&quot;</td><td>&quot;https://books.toscrape.com/med…</td><td>&quot;https://books.toscrape.com/cat…</td><td>&quot;yes&quot;</td><td>14</td><td>&quot;/9j/4AAQSkZJRgABAQAAAQABAAD/2w…</td></tr><tr><td>&quot;The Star-Touched Queen&quot;</td><td>32.3</td><td>5</td><td>&quot;Fantasy&quot;</td><td>&quot;https://books.toscrape.com/med…</td><td>&quot;https://books.toscrape.com/cat…</td><td>&quot;yes&quot;</td><td>12</td><td>&quot;/9j/4AAQSkZJRgABAQAAAQABAAD/2w…</td></tr></tbody></table></div>"
      ],
      "text/plain": [
       "shape: (2, 9)\n",
       "┌──────────────┬───────┬────────┬──────────┬───┬──────────────┬──────────────┬───────┬─────────────┐\n",
       "│ title        ┆ price ┆ rating ┆ category ┆ … ┆ product_page ┆ availability ┆ stock ┆ image_base6 │\n",
       "│ ---          ┆ ---   ┆ ---    ┆ ---      ┆   ┆ ---          ┆ ---          ┆ ---   ┆ 4           │\n",
       "│ str          ┆ f64   ┆ i64    ┆ str      ┆   ┆ str          ┆ str          ┆ i64   ┆ ---         │\n",
       "│              ┆       ┆        ┆          ┆   ┆              ┆              ┆       ┆ str         │\n",
       "╞══════════════╪═══════╪════════╪══════════╪═══╪══════════════╪══════════════╪═══════╪═════════════╡\n",
       "│ The          ┆ 46.02 ┆ 5      ┆ Fantasy  ┆ … ┆ https://book ┆ yes          ┆ 14    ┆ /9j/4AAQSkZ │\n",
       "│ Star-Touched ┆       ┆        ┆          ┆   ┆ s.toscrape.c ┆              ┆       ┆ JRgABAQAAAQ │\n",
       "│ Queen        ┆       ┆        ┆          ┆   ┆ om/cat…      ┆              ┆       ┆ ABAAD/2w…   │\n",
       "│ The          ┆ 32.3  ┆ 5      ┆ Fantasy  ┆ … ┆ https://book ┆ yes          ┆ 12    ┆ /9j/4AAQSkZ │\n",
       "│ Star-Touched ┆       ┆        ┆          ┆   ┆ s.toscrape.c ┆              ┆       ┆ JRgABAQAAAQ │\n",
       "│ Queen        ┆       ┆        ┆          ┆   ┆ om/cat…      ┆              ┆       ┆ ABAAD/2w…   │\n",
       "└──────────────┴───────┴────────┴──────────┴───┴──────────────┴──────────────┴───────┴─────────────┘"
      ]
     },
     "execution_count": 60,
     "metadata": {},
     "output_type": "execute_result"
    }
   ],
   "source": [
    "duplicate_titles"
   ]
  },
  {
   "cell_type": "code",
   "execution_count": 63,
   "id": "72b8065e",
   "metadata": {},
   "outputs": [
    {
     "name": "stdout",
     "output_type": "stream",
     "text": [
      "INSIGHT: Os livros duplicados tem preços e estoques diferentes, indicando que são edições ou versões distintas do mesmo título\n"
     ]
    }
   ],
   "source": [
    "print(\"INSIGHT: Os livros duplicados tem preços e estoques diferentes, indicando que são edições ou versões distintas do mesmo título\")"
   ]
  },
  {
   "cell_type": "code",
   "execution_count": 18,
   "id": "4293dbc3",
   "metadata": {},
   "outputs": [
    {
     "name": "stdout",
     "output_type": "stream",
     "text": [
      "\n",
      "=== URLs DUPLICADAS ===\n",
      "URLs duplicadas: 0\n"
     ]
    }
   ],
   "source": [
    "print(\"\\n=== URLs DUPLICADAS ===\")\n",
    "duplicate_urls = df.filter(df['product_page'].is_duplicated())\n",
    "print(f\"URLs duplicadas: {duplicate_urls.height}\")"
   ]
  },
  {
   "cell_type": "code",
   "execution_count": 19,
   "id": "dc1eb1e6",
   "metadata": {},
   "outputs": [
    {
     "name": "stdout",
     "output_type": "stream",
     "text": [
      "\n",
      "=== ANÁLISE DE COMPRIMENTO DOS TÍTULOS ===\n",
      "\n",
      "Tamanho médio dos títulos: 39.1 caracteres\n",
      "Título mais longo: 204 caracteres\n",
      "Título mais curto: 2 caracteres\n"
     ]
    }
   ],
   "source": [
    "print(\"\\n=== ANÁLISE DE COMPRIMENTO DOS TÍTULOS ===\")\n",
    "print(f\"\\nTamanho médio dos títulos: {df['title'].str.len_chars().mean():.1f} caracteres\")\n",
    "print(f\"Título mais longo: {df['title'].str.len_chars().max()} caracteres\")\n",
    "print(f\"Título mais curto: {df['title'].str.len_chars().min()} caracteres\")"
   ]
  },
  {
   "cell_type": "code",
   "execution_count": 71,
   "id": "e0fbc3ee",
   "metadata": {},
   "outputs": [
    {
     "name": "stdout",
     "output_type": "stream",
     "text": [
      "\n",
      "=== TÍTULO MAIS LONGO ===\n",
      "At The Existentialist Café: Freedom, Being, and apricot cocktails with: Jean-Paul Sartre, Simone de Beauvoir, Albert Camus, Martin Heidegger, Edmund Husserl, Karl Jaspers, Maurice Merleau-Ponty and others\n"
     ]
    }
   ],
   "source": [
    "print(\"\\n=== TÍTULO MAIS LONGO ===\")\n",
    "longest_title_row = df.with_columns(\n",
    "    pl.col(\"title\").str.len_chars().alias(\"title_length\")\n",
    ").sort(\"title_length\", descending=True).select([\"title\", \"title_length\"])\n",
    "print(longest_title_row['title'][0])"
   ]
  },
  {
   "cell_type": "code",
   "execution_count": 72,
   "id": "c155fc1d",
   "metadata": {},
   "outputs": [
    {
     "name": "stdout",
     "output_type": "stream",
     "text": [
      "\n",
      "=== TÍTULO MAIS CURTO ===\n",
      "It\n"
     ]
    }
   ],
   "source": [
    "print(\"\\n=== TÍTULO MAIS CURTO ===\")\n",
    "shortest_title_row = df.with_columns(\n",
    "    pl.col(\"title\").str.len_chars().alias(\"title_length\")\n",
    ").sort(\"title_length\", descending=False).select([\"title\", \"title_length\"])\n",
    "print(shortest_title_row['title'][0])"
   ]
  },
  {
   "cell_type": "code",
   "execution_count": 21,
   "id": "ffc90e26",
   "metadata": {},
   "outputs": [
    {
     "name": "stdout",
     "output_type": "stream",
     "text": [
      "\n",
      "=== ANÁLISE DE CATEGORIAS ===\n",
      "\n",
      "Categorias que podem ser problemáticas:\n",
      "Livros com categorias 'Add a comment' ou 'Default': 219\n"
     ]
    }
   ],
   "source": [
    "print(\"\\n=== ANÁLISE DE CATEGORIAS ===\")\n",
    "print(\"\\nCategorias que podem ser problemáticas:\")\n",
    "problematic_categories = df.filter(\n",
    "    pl.col('category').str.to_lowercase().str.contains('comment') | \n",
    "    pl.col('category').str.to_lowercase().str.contains('default')\n",
    ")\n",
    "print(f\"Livros com categorias 'Add a comment' ou 'Default': {problematic_categories.height}\")"
   ]
  },
  {
   "cell_type": "code",
   "execution_count": 57,
   "id": "8a66b9db",
   "metadata": {},
   "outputs": [
    {
     "name": "stdout",
     "output_type": "stream",
     "text": [
      "\n",
      "=== ANÁLISE DE STOCK ===\n",
      "Stock mínimo: 1\n",
      "Stock máximo: 22\n",
      "Stock médio: 8.6\n",
      "Stock mediano: 7.0\n",
      "Livros com stock zero: 0\n",
      "\n",
      "INSIGHT: A média dos stocks é puxada para cima por alguns poucos livros com estoque muito alto. A mediana indica que a maioria dos livros tem um stock baixo, mas sem outliers.\n"
     ]
    }
   ],
   "source": [
    "print(\"\\n=== ANÁLISE DE STOCK ===\")\n",
    "print(f\"Stock mínimo: {df['stock'].min()}\")\n",
    "print(f\"Stock máximo: {df['stock'].max()}\")\n",
    "print(f\"Stock médio: {df['stock'].mean():.1f}\")\n",
    "print(f\"Stock mediano: {df['stock'].median()}\")\n",
    "print(f\"Livros com stock zero: {(df['stock'] == 0).sum()}\")\n",
    "\n",
    "print(\"\\nINSIGHT: A média dos stocks é puxada para cima por alguns poucos livros com estoque muito alto. A mediana indica que a maioria dos livros tem um stock baixo, mas sem outliers.\")"
   ]
  },
  {
   "cell_type": "code",
   "execution_count": 73,
   "id": "641dde7a",
   "metadata": {},
   "outputs": [
    {
     "name": "stdout",
     "output_type": "stream",
     "text": [
      "\n",
      "=== TAMANHO DA IMAGEM ===\n",
      "\n",
      "Tamanho médio da URL da imagem: 81 caracteres\n",
      "\n",
      "Tamanho médio do image_base64: 54829 caracteres\n"
     ]
    }
   ],
   "source": [
    "print(\"\\n=== TAMANHO DA IMAGEM ===\")\n",
    "print(f\"\\nTamanho médio da URL da imagem: {df['image'].str.len_chars().mean():.0f} caracteres\")\n",
    "print(f\"\\nTamanho médio do image_base64: {df['image_base64'].str.len_chars().mean():.0f} caracteres\")"
   ]
  },
  {
   "cell_type": "code",
   "execution_count": 22,
   "id": "f1223d7c",
   "metadata": {},
   "outputs": [
    {
     "name": "stdout",
     "output_type": "stream",
     "text": [
      "\n",
      "=== ANÁLISE DE VALORES ANÔMALOS ===\n",
      "\n",
      "Ranges de valores:\n",
      "Ratings fora do range 1-5: 0\n",
      "Preços negativos ou zero: 0\n",
      "Stock negativo: 0\n"
     ]
    }
   ],
   "source": [
    "print(\"\\n=== ANÁLISE DE VALORES ANÔMALOS ===\")\n",
    "print(\"\\nRanges de valores:\")\n",
    "print(f\"Ratings fora do range 1-5: {df.filter((pl.col('rating') < 1) | (pl.col('rating') > 5)).height}\")\n",
    "print(f\"Preços negativos ou zero: {df.filter(pl.col('price') <= 0).height}\")\n",
    "print(f\"Stock negativo: {df.filter(pl.col('stock') < 0).height}\")"
   ]
  },
  {
   "cell_type": "markdown",
   "id": "962ad285",
   "metadata": {},
   "source": [
    "#### Análises Complementares"
   ]
  },
  {
   "cell_type": "code",
   "execution_count": null,
   "id": "7995252c",
   "metadata": {},
   "outputs": [
    {
     "name": "stdout",
     "output_type": "stream",
     "text": [
      "=== ANÁLISE DE CORRELAÇÃO ENTRE VARIÁVEIS NUMÉRICAS ===\n",
      "shape: (3, 3)\n",
      "┌───────────┬──────────┬───────────┐\n",
      "│ price     ┆ rating   ┆ stock     │\n",
      "│ ---       ┆ ---      ┆ ---       │\n",
      "│ f64       ┆ f64      ┆ f64       │\n",
      "╞═══════════╪══════════╪═══════════╡\n",
      "│ 1.0       ┆ 0.028166 ┆ -0.010914 │\n",
      "│ 0.028166  ┆ 1.0      ┆ 0.016166  │\n",
      "│ -0.010914 ┆ 0.016166 ┆ 1.0       │\n",
      "└───────────┴──────────┴───────────┘\n",
      "\n",
      "OBS: Verificar se há correlações significativas que possam influenciar na criação de features.\n"
     ]
    }
   ],
   "source": [
    "print(\"\\nOBS: Verificar se há correlações significativas que possam influenciar na criação de features.\")\n",
    "\n",
    "print(\"=== ANÁLISE DE CORRELAÇÃO ENTRE VARIÁVEIS NUMÉRICAS ===\")\n",
    "numeric_cols = ['price', 'rating', 'stock']\n",
    "correlation_matrix = df.select(numeric_cols).corr()\n",
    "print(correlation_matrix)"
   ]
  },
  {
   "cell_type": "code",
   "execution_count": null,
   "id": "af276337",
   "metadata": {},
   "outputs": [
    {
     "name": "stdout",
     "output_type": "stream",
     "text": [
      "\n",
      "=== ANÁLISE DE DISTRIBUIÇÃO POR FAIXA DE PREÇO ===\n",
      "shape: (4, 2)\n",
      "┌───────────────┬───────┐\n",
      "│ price_range   ┆ count │\n",
      "│ ---           ┆ ---   │\n",
      "│ str           ┆ u32   │\n",
      "╞═══════════════╪═══════╡\n",
      "│ Médio (20-40) ┆ 401   │\n",
      "│ Alto (40-50)  ┆ 205   │\n",
      "│ Premium (>50) ┆ 198   │\n",
      "│ Baixo (≤20)   ┆ 196   │\n",
      "└───────────────┴───────┘\n",
      "\n",
      "OBS: Entender a distribuição de preços pode ajudar na criação de features categóricas para preço.\n"
     ]
    }
   ],
   "source": [
    "print(\"\\nOBS: Entender a distribuição de preços pode ajudar na criação de features categóricas para preço.\")\n",
    "\n",
    "print(\"\\n=== ANÁLISE DE DISTRIBUIÇÃO POR FAIXA DE PREÇO ===\")\n",
    "# Criar faixas de preço para análise\n",
    "price_ranges = []\n",
    "for price in df['price']:\n",
    "    if price <= 20:\n",
    "        price_ranges.append(\"Baixo (≤20)\")\n",
    "    elif price <= 40:\n",
    "        price_ranges.append(\"Médio (20-40)\")\n",
    "    elif price <= 50:\n",
    "        price_ranges.append(\"Alto (40-50)\")\n",
    "    else:\n",
    "        price_ranges.append(\"Premium (>50)\")\n",
    "\n",
    "price_range_series = pl.Series(\"price_range\", price_ranges)\n",
    "price_distribution = price_range_series.value_counts().sort(\"count\", descending=True)\n",
    "print(price_distribution)"
   ]
  },
  {
   "cell_type": "code",
   "execution_count": null,
   "id": "bef93171",
   "metadata": {},
   "outputs": [
    {
     "name": "stdout",
     "output_type": "stream",
     "text": [
      "\n",
      "=== ANÁLISE DE PADRÕES NOS TÍTULOS ===\n",
      "Títulos com números: 365\n",
      "Títulos com caracteres especiais: 667\n",
      "Títulos com 'The' no início: 269\n",
      "Títulos com ':' (possíveis subtítulos): 307\n",
      "Títulos com '(' (possíveis séries/volumes): 345\n",
      "\n",
      "OBS: Padrões nos títulos podem ser úteis para feature engineering (séries, volumes, subtítulos).\n"
     ]
    }
   ],
   "source": [
    "print(\"\\nOBS: Padrões nos títulos podem ser úteis para feature engineering (séries, volumes, subtítulos).\")\n",
    "\n",
    "print(\"\\n=== ANÁLISE DE PADRÕES NOS TÍTULOS ===\")\n",
    "print(f\"Títulos com números: {df.filter(pl.col('title').str.contains(r'\\d')).height}\")\n",
    "print(f\"Títulos com caracteres especiais: {df.filter(pl.col('title').str.contains(r'[^\\w\\s]')).height}\")\n",
    "print(f\"Títulos com 'The' no início: {df.filter(pl.col('title').str.starts_with('The ')).height}\")\n",
    "print(f\"Títulos com ':' (possíveis subtítulos): {df.filter(pl.col('title').str.contains(':')).height}\")\n",
    "print(f\"Títulos com '(' (possíveis séries/volumes): {df.filter(pl.col('title').str.contains(r'\\(')).height}\")"
   ]
  },
  {
   "cell_type": "code",
   "execution_count": null,
   "id": "b35e7c2a",
   "metadata": {},
   "outputs": [
    {
     "name": "stdout",
     "output_type": "stream",
     "text": [
      "\n",
      "=== ANÁLISE DE CONSISTÊNCIA DE URLS ===\n",
      "Padrões nas URLs das imagens:\n",
      "URLs com '/media/': 1000\n",
      "URLs únicas de imagens: 1000\n",
      "URLs únicas de páginas: 1000\n",
      "\n",
      "URLs de imagem que podem estar quebradas (sem extensão):\n",
      "Total: 0\n",
      "\n",
      "OBS: Importante verificar a qualidade das URLs para garantir que as imagens estejam acessíveis.\n"
     ]
    }
   ],
   "source": [
    "print(\"\\nOBS: Importante verificar a qualidade das URLs para garantir que as imagens estejam acessíveis.\")\n",
    "\n",
    "print(\"\\n=== ANÁLISE DE CONSISTÊNCIA DE URLS ===\")\n",
    "print(\"Padrões nas URLs das imagens:\")\n",
    "print(f\"URLs com '/media/': {df.filter(pl.col('image').str.contains('/media/')).height}\")\n",
    "print(f\"URLs únicas de imagens: {df['image'].n_unique()}\")\n",
    "print(f\"URLs únicas de páginas: {df['product_page'].n_unique()}\")\n",
    "\n",
    "# Verificar se há padrões problemáticos nas URLs\n",
    "print(\"\\nURLs de imagem que podem estar quebradas (sem extensão):\")\n",
    "broken_images = df.filter(~pl.col('image').str.contains(r'\\.(jpg|jpeg|png|gif)$'))\n",
    "print(f\"Total: {broken_images.height}\")"
   ]
  },
  {
   "cell_type": "code",
   "execution_count": null,
   "id": "0a151d48",
   "metadata": {},
   "outputs": [
    {
     "name": "stdout",
     "output_type": "stream",
     "text": [
      "\n",
      "=== ANÁLISE DE OUTLIERS MAIS DETALHADA ===\n",
      "PREÇOS:\n",
      "Outliers de preço (método IQR): 0\n",
      "\n",
      "STOCK:\n",
      "Outliers de stock (método IQR): 0\n",
      "\n",
      "OBS: Outliers podem indicar ruído nos dados e que merecem tratamento específico.\n"
     ]
    }
   ],
   "source": [
    "print(\"\\nOBS: Outliers podem indicar ruído nos dados e que merecem tratamento específico.\")\n",
    "\n",
    "print(\"\\n=== ANÁLISE DE OUTLIERS MAIS DETALHADA ===\")\n",
    "print(\"PREÇOS:\")\n",
    "Q1_price = df['price'].quantile(0.25)\n",
    "Q3_price = df['price'].quantile(0.75)\n",
    "IQR_price = Q3_price - Q1_price\n",
    "outliers_price = df.filter(\n",
    "    (pl.col('price') < (Q1_price - 1.5 * IQR_price)) | \n",
    "    (pl.col('price') > (Q3_price + 1.5 * IQR_price))\n",
    ")\n",
    "print(f\"Outliers de preço (método IQR): {outliers_price.height}\")\n",
    "if outliers_price.height > 0:\n",
    "    print(\"Exemplos de outliers de preço:\")\n",
    "    print(outliers_price.select(['title', 'price', 'category']).head(3))\n",
    "\n",
    "print(\"\\nSTOCK:\")\n",
    "Q1_stock = df['stock'].quantile(0.25)\n",
    "Q3_stock = df['stock'].quantile(0.75)\n",
    "IQR_stock = Q3_stock - Q1_stock\n",
    "outliers_stock = df.filter(\n",
    "    (pl.col('stock') < (Q1_stock - 1.5 * IQR_stock)) | \n",
    "    (pl.col('stock') > (Q3_stock + 1.5 * IQR_stock))\n",
    ")\n",
    "print(f\"Outliers de stock (método IQR): {outliers_stock.height}\")"
   ]
  },
  {
   "cell_type": "markdown",
   "id": "e2e4e952",
   "metadata": {},
   "source": [
    "#### Resumo da Análise"
   ]
  },
  {
   "cell_type": "code",
   "execution_count": 89,
   "id": "6dd24fb9",
   "metadata": {},
   "outputs": [
    {
     "name": "stdout",
     "output_type": "stream",
     "text": [
      "=== RESUMO EXECUTIVO DA ANÁLISE ===\n",
      "\n",
      "📊 QUALIDADE DOS DADOS:\n",
      "✅ Dataset limpo: 1000 registros, sem valores nulos\n",
      "✅ URLs consistentes e válidas\n",
      "✅ Sem outliers extremos detectados\n",
      "⚠️ 2 títulos duplicados (edições diferentes)\n",
      "\n",
      "📈 DISTRIBUIÇÃO DOS DADOS:\n",
      "• Preços: Bem distribuídos (média≈mediana), sem assimetria\n",
      "• Ratings: Concentração em ratings altos (1-5 escala)\n",
      "• Stock: Variação de 1-22, mediana=7\n",
      "• Categorias: 50 categorias, com concentração nas top 10\n",
      "\n",
      "🔍 PADRÕES IDENTIFICADOS:\n",
      "• 365 títulos contêm números (séries, anos, volumes)\n",
      "• 269 títulos começam com 'The'\n",
      "• 307 títulos têm ':' (subtítulos)\n",
      "• 345 títulos têm '(' (séries/volumes)\n",
      "• Faixa de preço mais comum: Médio (20-40) com 401 livros\n",
      "\n"
     ]
    }
   ],
   "source": [
    "print(\"=== RESUMO EXECUTIVO DA ANÁLISE ===\")\n",
    "print(f\"\"\"\n",
    "📊 QUALIDADE DOS DADOS:\n",
    "✅ Dataset limpo: {df.height} registros, sem valores nulos\n",
    "✅ URLs consistentes e válidas\n",
    "✅ Sem outliers extremos detectados\n",
    "⚠️ 2 títulos duplicados (edições diferentes)\n",
    "\n",
    "📈 DISTRIBUIÇÃO DOS DADOS:\n",
    "• Preços: Bem distribuídos (média≈mediana), sem assimetria\n",
    "• Ratings: Concentração em ratings altos (1-5 escala)\n",
    "• Stock: Variação de 1-22, mediana=7\n",
    "• Categorias: {df['category'].n_unique()} categorias, com concentração nas top 10\n",
    "\n",
    "🔍 PADRÕES IDENTIFICADOS:\n",
    "• {365} títulos contêm números (séries, anos, volumes)\n",
    "• {269} títulos começam com 'The'\n",
    "• {307} títulos têm ':' (subtítulos)\n",
    "• {345} títulos têm '(' (séries/volumes)\n",
    "• Faixa de preço mais comum: Médio (20-40) com {401} livros\n",
    "\"\"\")"
   ]
  }
 ],
 "metadata": {
  "kernelspec": {
   "display_name": ".venv",
   "language": "python",
   "name": "python3"
  },
  "language_info": {
   "codemirror_mode": {
    "name": "ipython",
    "version": 3
   },
   "file_extension": ".py",
   "mimetype": "text/x-python",
   "name": "python",
   "nbconvert_exporter": "python",
   "pygments_lexer": "ipython3",
   "version": "3.13.0"
  }
 },
 "nbformat": 4,
 "nbformat_minor": 5
}
